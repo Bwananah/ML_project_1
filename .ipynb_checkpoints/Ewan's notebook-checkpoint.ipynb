{
 "cells": [
  {
   "cell_type": "markdown",
   "id": "3d95915c",
   "metadata": {},
   "source": [
    "# Tests and visualizations"
   ]
  },
  {
   "cell_type": "markdown",
   "id": "4a175375",
   "metadata": {},
   "source": [
    "## Imports"
   ]
  },
  {
   "cell_type": "code",
   "execution_count": 34,
   "id": "a16b1f68",
   "metadata": {},
   "outputs": [],
   "source": [
    "import numpy as np"
   ]
  },
  {
   "cell_type": "markdown",
   "id": "bc4dec98",
   "metadata": {},
   "source": [
    "## Load data"
   ]
  },
  {
   "cell_type": "code",
   "execution_count": 35,
   "id": "59481f75",
   "metadata": {},
   "outputs": [],
   "source": [
    "DATA_PATH = \"../data/\""
   ]
  },
  {
   "cell_type": "code",
   "execution_count": 36,
   "id": "805b744b",
   "metadata": {},
   "outputs": [],
   "source": [
    "def load_data(filename):\n",
    "    \"\"\"load data.\"\"\"\n",
    "    path = DATA_PATH + filename\n",
    "    data = np.genfromtxt(path, delimiter=\",\", names=True, dtype=None) # skip first row (column names)\n",
    "    return data"
   ]
  },
  {
   "cell_type": "code",
   "execution_count": 37,
   "id": "00e12cab",
   "metadata": {},
   "outputs": [
    {
     "name": "stderr",
     "output_type": "stream",
     "text": [
      "C:\\Users\\bouna\\AppData\\Local\\Temp\\ipykernel_2116\\2184236441.py:4: VisibleDeprecationWarning: Reading unicode strings without specifying the encoding argument is deprecated. Set the encoding, use None for the system default.\n",
      "  data = np.genfromtxt(path, delimiter=\",\", names=True, dtype=None) # skip first row (column names)\n"
     ]
    }
   ],
   "source": [
    "training_data = load_data(\"train.csv\")\n",
    "training_labels = training_data.dtype.names"
   ]
  },
  {
   "cell_type": "code",
   "execution_count": 47,
   "id": "2a7cf056",
   "metadata": {},
   "outputs": [
    {
     "name": "stdout",
     "output_type": "stream",
     "text": [
      "('Id', 'Prediction', 'DER_mass_MMC', 'DER_mass_transverse_met_lep', 'DER_mass_vis', 'DER_pt_h', 'DER_deltaeta_jet_jet', 'DER_mass_jet_jet', 'DER_prodeta_jet_jet', 'DER_deltar_tau_lep', 'DER_pt_tot', 'DER_sum_pt', 'DER_pt_ratio_lep_tau', 'DER_met_phi_centrality', 'DER_lep_eta_centrality', 'PRI_tau_pt', 'PRI_tau_eta', 'PRI_tau_phi', 'PRI_lep_pt', 'PRI_lep_eta', 'PRI_lep_phi', 'PRI_met', 'PRI_met_phi', 'PRI_met_sumet', 'PRI_jet_num', 'PRI_jet_leading_pt', 'PRI_jet_leading_eta', 'PRI_jet_leading_phi', 'PRI_jet_subleading_pt', 'PRI_jet_subleading_eta', 'PRI_jet_subleading_phi', 'PRI_jet_all_pt') \n",
      "\n",
      "(100000, b's', 138.47, 51.655, 97.827, 27.98, 0.91, 124.711, 2.666, 3.064, 41.928, 197.76, 1.582, 1.396, 0.2, 32.638, 1.017, 0.381, 51.626, 2.273, -2.414, 16.824, -0.277, 258.733, 2, 67.435, 2.15, 0.444, 46.062, 1.24, -2.475, 113.497)\n"
     ]
    }
   ],
   "source": [
    "print(training_labels, '\\n')\n",
    "print(training_data[0])"
   ]
  },
  {
   "cell_type": "markdown",
   "id": "c16955a0",
   "metadata": {},
   "source": [
    "## Code"
   ]
  },
  {
   "cell_type": "code",
   "execution_count": 7,
   "id": "dde2fcb9",
   "metadata": {},
   "outputs": [],
   "source": [
    "def compute_loss(y, tx, w):\n",
    "\n",
    "    \"\"\"Calculate the loss using MSE\n",
    "\n",
    "    Args:\n",
    "        y: numpy array of shape=(N, )\n",
    "        tx: numpy array of shape=(N, M)\n",
    "        w: numpy array of shape=(M,). The vector of model parameters.\n",
    "\n",
    "    Returns:\n",
    "        the value of the loss (a scalar), corresponding to the input parameters w.\n",
    "    \"\"\"\n",
    "    e = y - tx@w\n",
    "    n = y.shape[0]\n",
    "    \n",
    "    return e.T@e/(2*n)"
   ]
  },
  {
   "cell_type": "code",
   "execution_count": 48,
   "id": "fd4474d6",
   "metadata": {},
   "outputs": [],
   "source": [
    "def least_squares(y, tx):\n",
    "    \"\"\"Calculate the optimal vector w from the least squares regression, using the normal equations\n",
    "    \n",
    "    Args:\n",
    "        y: numpy array of shape=(N, )\n",
    "        tx: numpy array of shape=(N, M)\n",
    "        \n",
    "    Returns:\n",
    "        w: the optimal model parameters resulting from the least squares regression\n",
    "        loss: the MSE loss for the model parameters w.r. to y and tx\n",
    "    \"\"\"\n",
    "    # Normal equations : w* = inverse(tx.T @ tx) @ tx.T @ y -> (tx.T @ tx) @ w* = tx.T @ y\n",
    "    A = tx.T@tx\n",
    "    b = tx.T@y\n",
    "    w = np.linalg.solve(A, b) # Aw = b\n",
    "    \n",
    "    loss = compute_loss(y, tx, w)\n",
    "    \n",
    "    return (w, loss)"
   ]
  },
  {
   "cell_type": "code",
   "execution_count": 52,
   "id": "1685692b",
   "metadata": {},
   "outputs": [],
   "source": [
    "def ridge_regression(y, tx, lambda_):\n",
    "    \"\"\"Compute ridge regression using normal equations\n",
    "    \n",
    "    Args:\n",
    "        y: numpy array of shape (N,), N is the number of samples.\n",
    "        tx: numpy array of shape (N,D), D is the number of features.\n",
    "        lambda_: scalar.\n",
    "    \n",
    "    Returns:\n",
    "        w: optimal weights, numpy array of shape(D,), D is the number of features.\n",
    "        loss : the MSE loss for the model parameters w.r. to y and tx\n",
    "    \"\"\"\n",
    "    # Normal equations : w*_ridge = inverse(tx.T @ tx + lambda*I) @ tx.T @ y -> (tx.T @ tx + lambda_prime*I) @ w* = tx.T @ y\n",
    "    n = y.shape[0]\n",
    "    d = tx.shape[1]\n",
    "    lambda_prime = 2*n*lambda_\n",
    "    \n",
    "    A = tx.T@tx + lambda_prime*np.identity(d)\n",
    "    b = tx.T@y\n",
    "    w = np.linalg.solve(A, b)\n",
    "    \n",
    "    loss = compute_loss(y, tx, w) + lambda_*np.sum(w**2)\n",
    "    \n",
    "    return (w, loss)"
   ]
  },
  {
   "cell_type": "code",
   "execution_count": null,
   "id": "e9e9af99",
   "metadata": {},
   "outputs": [],
   "source": []
  }
 ],
 "metadata": {
  "kernelspec": {
   "display_name": "Python 3 (ipykernel)",
   "language": "python",
   "name": "python3"
  },
  "language_info": {
   "codemirror_mode": {
    "name": "ipython",
    "version": 3
   },
   "file_extension": ".py",
   "mimetype": "text/x-python",
   "name": "python",
   "nbconvert_exporter": "python",
   "pygments_lexer": "ipython3",
   "version": "3.9.12"
  }
 },
 "nbformat": 4,
 "nbformat_minor": 5
}
